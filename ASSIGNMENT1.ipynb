{
  "nbformat": 4,
  "nbformat_minor": 0,
  "metadata": {
    "colab": {
      "provenance": []
    },
    "kernelspec": {
      "name": "python3",
      "display_name": "Python 3"
    },
    "language_info": {
      "name": "python"
    }
  },
  "cells": [
    {
      "cell_type": "markdown",
      "source": [],
      "metadata": {
        "id": "a7nP-zpq_jvr"
      }
    },
    {
      "cell_type": "markdown",
      "source": [
        "# Python Basics Questions"
      ],
      "metadata": {
        "id": "OhCM4P6G_zrr"
      }
    },
    {
      "cell_type": "markdown",
      "source": [
        "1. What is Python, and why is it popular?\n",
        "\n",
        "  A :- Python is a popular programming language beacuse it's versatile and easy to learn for beginers.It can be used for so many tasks such as,web development, data science and much more.\n",
        "\n",
        "2. What is an interpreter in Python?\n",
        "\n",
        "   A :- A Python interpreter is a computer programme that translates Python code into machine code that a computer can understand.\n",
        "\n",
        "3. What are pre-defined keywords in Python?\n",
        "\n",
        "   A :-Print, and, or, true, flase, list, break, continue etc.\n",
        "\n",
        "4. Can keywords be used as variable names?\n",
        "\n",
        "   A :- No, keywors cannot be used as variable names beacuse keywords are reserved word that have a special meaning in the Python.\n",
        "\n",
        "5. What is mutability in Python?\n",
        "\n",
        "   A :- In Python mutability is we can change the object after is created.\n",
        "\n",
        "6. Why are lists mutable, but tuples are immutable ?\n",
        "\n",
        "  A :- Lists are mutable beacuse they can be change after creation but for tuples their contents cannot be modified once created.\n",
        "\n",
        "7. What is the difference between “==” and “is” operators in Python?\n",
        "\n",
        "  A :- The \"==\" operator is used to compare the equality of object.\n",
        "       The \"use\"operator is used to check if different variables are pointing to the same object memory'\n",
        "\n",
        "       e.g-i =(1, 2, 3)\n",
        "           j =(1, 2, 3)\n",
        "\n",
        "       print (i==j) true\n",
        "       prnt (i is j)flase\n",
        "\n",
        "8.   What are logical operators in Python?\n",
        "\n",
        "     A :-In Python logical operators are used to combine multiple conditions together.There are theree type of logical operrators in python and,or,not.\n",
        "\n",
        "9.   What is type casting in Python?\n",
        "\n",
        "     A :-Type casting is the process of converting value from one data type to another.\n",
        "\n",
        "10.  What is the difference between implicit and explicit type casting?\n",
        "\n",
        "     A ❎\n",
        "\n",
        "11.  What is the purpose of conditional statements in Python?\n",
        "\n",
        "     A :-They allow you to make decisioon based on the value of variables or the result of comparisons.\n",
        "\n",
        "12.  How does the elif statement work?\n",
        "     \n",
        "     A :-In Python elif is short from of \"else if\" and is used when the first if statment isn't true,but you want to check for another condition.\n",
        "\n",
        "13.  What is the difference between for and while loops ?\n",
        "\n",
        "     A :-Python offers two primary types of loops, for loops and while loops.\n",
        "“for” loops are used for iterating over a sequence of elements, while “while” loops are used for executing code until a specified condition becomes False.\n",
        "\n",
        "14. Describe a scenario where a while loop is more suitable than a for loop.\n",
        "\n",
        "     A :-Use a for loop when you know the loop should execute n times. Use a while loop for reading a file into a variable.\n",
        "    "
      ],
      "metadata": {
        "id": "J-hsl-W-Ab1z"
      }
    },
    {
      "cell_type": "code",
      "source": [],
      "metadata": {
        "id": "IERUzB1CCsrV"
      },
      "execution_count": null,
      "outputs": []
    },
    {
      "cell_type": "code",
      "source": [
        "#Write a Python program to print \"Hello, World!_\n",
        "print(\"hello world\")\n",
        "print"
      ],
      "metadata": {
        "colab": {
          "base_uri": "https://localhost:8080/"
        },
        "id": "hzZF6V3eVYHe",
        "outputId": "cc7191d4-d49b-4903-f4ba-28d7a31c4a07"
      },
      "execution_count": null,
      "outputs": [
        {
          "output_type": "stream",
          "name": "stdout",
          "text": [
            "hello world\n"
          ]
        }
      ]
    },
    {
      "cell_type": "code",
      "source": [
        "#Write a Python program that displays your name and age\n",
        "name =(\"Payel\")\n",
        "name"
      ],
      "metadata": {
        "colab": {
          "base_uri": "https://localhost:8080/",
          "height": 35
        },
        "id": "uP9fg11GW8-j",
        "outputId": "061afa50-6b8d-44d6-b6d4-16115a983e16"
      },
      "execution_count": null,
      "outputs": [
        {
          "output_type": "execute_result",
          "data": {
            "text/plain": [
              "'Payel'"
            ],
            "application/vnd.google.colaboratory.intrinsic+json": {
              "type": "string"
            }
          },
          "metadata": {},
          "execution_count": 3
        }
      ]
    },
    {
      "cell_type": "code",
      "source": [
        "age = 31\n",
        "age"
      ],
      "metadata": {
        "colab": {
          "base_uri": "https://localhost:8080/"
        },
        "id": "tgRGCkdpXgbV",
        "outputId": "e95e431d-968e-442b-cc22-1dcee28a8d66"
      },
      "execution_count": null,
      "outputs": [
        {
          "output_type": "execute_result",
          "data": {
            "text/plain": [
              "31"
            ]
          },
          "metadata": {},
          "execution_count": 4
        }
      ]
    },
    {
      "cell_type": "markdown",
      "source": [],
      "metadata": {
        "id": "Ve1fiL-7YjYc"
      }
    },
    {
      "cell_type": "code",
      "source": [
        "#Write code to print all the pre-defined keywords in Python using the keyword\n",
        "help('keywords')"
      ],
      "metadata": {
        "colab": {
          "base_uri": "https://localhost:8080/"
        },
        "id": "99ts0FfOZRkc",
        "outputId": "84f894d8-81da-4d04-af2c-1946221910bb"
      },
      "execution_count": null,
      "outputs": [
        {
          "output_type": "stream",
          "name": "stdout",
          "text": [
            "\n",
            "Here is a list of the Python keywords.  Enter any keyword to get more help.\n",
            "\n",
            "False               class               from                or\n",
            "None                continue            global              pass\n",
            "True                def                 if                  raise\n",
            "and                 del                 import              return\n",
            "as                  elif                in                  try\n",
            "assert              else                is                  while\n",
            "async               except              lambda              with\n",
            "await               finally             nonlocal            yield\n",
            "break               for                 not                 \n",
            "\n"
          ]
        }
      ]
    },
    {
      "cell_type": "code",
      "source": [
        "#Write a program that checks if a given word is a Python keyword\n",
        "import keyword\n",
        "keyword.iskeyword('while')\n",
        "\n"
      ],
      "metadata": {
        "id": "AijinLURdz_0",
        "colab": {
          "base_uri": "https://localhost:8080/"
        },
        "outputId": "494fe562-f673-4221-fe49-b1087ad4ec15"
      },
      "execution_count": null,
      "outputs": [
        {
          "output_type": "execute_result",
          "data": {
            "text/plain": [
              "True"
            ]
          },
          "metadata": {},
          "execution_count": 1
        }
      ]
    },
    {
      "cell_type": "code",
      "source": [
        "import keyword\n",
        "keyword.iskeyword('hello')\n"
      ],
      "metadata": {
        "colab": {
          "base_uri": "https://localhost:8080/"
        },
        "id": "HDuax8Yrz4vZ",
        "outputId": "e0afcb9d-6876-432e-ed4d-1001c4ab5eb1"
      },
      "execution_count": null,
      "outputs": [
        {
          "output_type": "execute_result",
          "data": {
            "text/plain": [
              "False"
            ]
          },
          "metadata": {},
          "execution_count": 2
        }
      ]
    },
    {
      "cell_type": "code",
      "source": [
        "# Create a list and tuple in Python, and demonstrate how attempting to change an element works differently\n",
        "list_cont=[\"Payel\",31,14.50,\"pwskills\"]\n",
        "print(list_cont)"
      ],
      "metadata": {
        "colab": {
          "base_uri": "https://localhost:8080/"
        },
        "id": "0ebH_Y4l0K26",
        "outputId": "3073944f-de43-46ec-af5f-c70914fa277b"
      },
      "execution_count": null,
      "outputs": [
        {
          "output_type": "stream",
          "name": "stdout",
          "text": [
            "['Payel', 31, 14.5, 'pwskills']\n"
          ]
        }
      ]
    },
    {
      "cell_type": "code",
      "source": [
        "my_tuple =(\"payel,31,14,50,pwskills\")\n",
        "print(my_tuple)"
      ],
      "metadata": {
        "colab": {
          "base_uri": "https://localhost:8080/"
        },
        "id": "XYRstHWXJYxe",
        "outputId": "28382d44-8c0c-4f68-967c-cb0a8b011dc8"
      },
      "execution_count": null,
      "outputs": [
        {
          "output_type": "stream",
          "name": "stdout",
          "text": [
            "payel,31,14,50,pwskills\n"
          ]
        }
      ]
    },
    {
      "cell_type": "code",
      "source": [
        "list_cont[0]"
      ],
      "metadata": {
        "colab": {
          "base_uri": "https://localhost:8080/",
          "height": 35
        },
        "id": "2W-4C55NMVaY",
        "outputId": "f402e8a5-d95a-43ce-a81e-f317a85d2ffb"
      },
      "execution_count": null,
      "outputs": [
        {
          "output_type": "execute_result",
          "data": {
            "text/plain": [
              "'Payel'"
            ],
            "application/vnd.google.colaboratory.intrinsic+json": {
              "type": "string"
            }
          },
          "metadata": {},
          "execution_count": 41
        }
      ]
    },
    {
      "cell_type": "code",
      "source": [
        "list_cont[0] = \"education\""
      ],
      "metadata": {
        "id": "_6kAMCw1N633"
      },
      "execution_count": null,
      "outputs": []
    },
    {
      "cell_type": "code",
      "source": [
        "list_cont"
      ],
      "metadata": {
        "colab": {
          "base_uri": "https://localhost:8080/"
        },
        "id": "sOgOONosOLBH",
        "outputId": "62af8537-97e4-4b9f-ae37-9e1c4386493a"
      },
      "execution_count": null,
      "outputs": [
        {
          "output_type": "execute_result",
          "data": {
            "text/plain": [
              "['education', 31, 14.5, 'pwskills']"
            ]
          },
          "metadata": {},
          "execution_count": 45
        }
      ]
    },
    {
      "cell_type": "code",
      "source": [
        "# in tuple we cannot change data\n",
        "my_tuple(0) = \"education\""
      ],
      "metadata": {
        "colab": {
          "base_uri": "https://localhost:8080/",
          "height": 106
        },
        "id": "NCxIwrT0PIFK",
        "outputId": "b2292714-5d8e-4ecb-b6bf-31e77e8735f3"
      },
      "execution_count": null,
      "outputs": [
        {
          "output_type": "error",
          "ename": "SyntaxError",
          "evalue": "cannot assign to function call here. Maybe you meant '==' instead of '='? (<ipython-input-48-5cc38abec866>, line 1)",
          "traceback": [
            "\u001b[0;36m  File \u001b[0;32m\"<ipython-input-48-5cc38abec866>\"\u001b[0;36m, line \u001b[0;32m1\u001b[0m\n\u001b[0;31m    my_tuple(0) = \"education\"\u001b[0m\n\u001b[0m    ^\u001b[0m\n\u001b[0;31mSyntaxError\u001b[0m\u001b[0;31m:\u001b[0m cannot assign to function call here. Maybe you meant '==' instead of '='?\n"
          ]
        }
      ]
    },
    {
      "cell_type": "code",
      "source": [
        "#Write a function to demonstrate the behavior of mutable and immutable arguments0\n",
        "food = ['apple','milk','jam']\n",
        "food.append('bread')\n",
        "print(food)"
      ],
      "metadata": {
        "colab": {
          "base_uri": "https://localhost:8080/"
        },
        "id": "UDlIFjjzPZB7",
        "outputId": "106780fb-3590-4811-c33a-017c821842fb"
      },
      "execution_count": null,
      "outputs": [
        {
          "output_type": "stream",
          "name": "stdout",
          "text": [
            "['apple', 'milk', 'jam', 'bread']\n"
          ]
        }
      ]
    },
    {
      "cell_type": "code",
      "source": [
        "#Write a program to demonstrate the use of logical operators\n",
        "age = 15\n",
        "income = 20000\n",
        "if age >=18 or income >=15000:\n",
        "  print(\"eligible for the lone\")\n",
        "else:\n",
        "    print(\"not eligible\")"
      ],
      "metadata": {
        "id": "vj7UbVXHUL5Q",
        "colab": {
          "base_uri": "https://localhost:8080/"
        },
        "outputId": "bda186aa-3c9e-4985-ce11-b00d1e085e9b"
      },
      "execution_count": 4,
      "outputs": [
        {
          "output_type": "stream",
          "name": "stdout",
          "text": [
            "eligible for the lone\n"
          ]
        }
      ]
    },
    {
      "cell_type": "code",
      "source": [
        "#not operators\n",
        "a = True\n",
        "b = False\n",
        "if not a:\n",
        "  print(\"my name is a\")\n",
        "if not b:\n",
        "  print(\"my name is b\")"
      ],
      "metadata": {
        "colab": {
          "base_uri": "https://localhost:8080/"
        },
        "id": "5y6RBIlkjWet",
        "outputId": "7de9ec5a-dd4e-48ce-9ae7-bba95813bdd9"
      },
      "execution_count": 17,
      "outputs": [
        {
          "output_type": "stream",
          "name": "stdout",
          "text": [
            "my name is b\n"
          ]
        }
      ]
    },
    {
      "cell_type": "code",
      "source": [
        "#Write a Python program to convert user input from string to integer, float, and boolean types\n",
        "s = 24\n",
        "print(s)\n",
        "type(s)"
      ],
      "metadata": {
        "colab": {
          "base_uri": "https://localhost:8080/"
        },
        "id": "DZWrgjEDmYJu",
        "outputId": "2c72a90e-8152-492b-cc28-baaac51f8380"
      },
      "execution_count": 19,
      "outputs": [
        {
          "output_type": "stream",
          "name": "stdout",
          "text": [
            "24\n"
          ]
        },
        {
          "output_type": "execute_result",
          "data": {
            "text/plain": [
              "int"
            ]
          },
          "metadata": {},
          "execution_count": 19
        }
      ]
    },
    {
      "cell_type": "code",
      "source": [
        "b = 2.0\n",
        "print(b)\n",
        "type(b)"
      ],
      "metadata": {
        "colab": {
          "base_uri": "https://localhost:8080/"
        },
        "id": "2Sa70e9ao9va",
        "outputId": "3596cfd8-23b7-4e8c-ddee-e64b27a77f6a"
      },
      "execution_count": 23,
      "outputs": [
        {
          "output_type": "stream",
          "name": "stdout",
          "text": [
            "2.0\n"
          ]
        },
        {
          "output_type": "execute_result",
          "data": {
            "text/plain": [
              "float"
            ]
          },
          "metadata": {},
          "execution_count": 23
        }
      ]
    },
    {
      "cell_type": "code",
      "source": [
        "s = \"False\"\n",
        "bool(s)"
      ],
      "metadata": {
        "colab": {
          "base_uri": "https://localhost:8080/"
        },
        "id": "Y7sXq0_IrHRl",
        "outputId": "18bffbd9-9245-4678-9962-c5e6ed92ac59"
      },
      "execution_count": 31,
      "outputs": [
        {
          "output_type": "execute_result",
          "data": {
            "text/plain": [
              "True"
            ]
          },
          "metadata": {},
          "execution_count": 31
        }
      ]
    },
    {
      "cell_type": "code",
      "source": [
        "bool('')"
      ],
      "metadata": {
        "colab": {
          "base_uri": "https://localhost:8080/"
        },
        "id": "ztQ9Jvvas39F",
        "outputId": "5a116b48-15c4-401d-9453-6889c132d28a"
      },
      "execution_count": 32,
      "outputs": [
        {
          "output_type": "execute_result",
          "data": {
            "text/plain": [
              "False"
            ]
          },
          "metadata": {},
          "execution_count": 32
        }
      ]
    },
    {
      "cell_type": "code",
      "source": [
        "#Write code to demonstrate type casting with list elements\n",
        "a = [\"1\", \"2\", \"3\", \"4\", \"5\",]\n",
        "list(map(int,a))"
      ],
      "metadata": {
        "colab": {
          "base_uri": "https://localhost:8080/"
        },
        "id": "iZFTl_SNtTS4",
        "outputId": "a052e87f-aabc-4351-ecbc-1a77e02eabf4"
      },
      "execution_count": 34,
      "outputs": [
        {
          "output_type": "execute_result",
          "data": {
            "text/plain": [
              "[1, 2, 3, 4, 5]"
            ]
          },
          "metadata": {},
          "execution_count": 34
        }
      ]
    },
    {
      "cell_type": "code",
      "source": [
        "#Write a program that checks if a number is positive, negative, or zero\n",
        "num = [\"payel\", 123, True, 2.0]\n",
        "num[0]"
      ],
      "metadata": {
        "colab": {
          "base_uri": "https://localhost:8080/",
          "height": 35
        },
        "id": "wWP-V1u8yiMO",
        "outputId": "ac93b2bd-97b1-4e17-9804-9b081a6d43b2"
      },
      "execution_count": 44,
      "outputs": [
        {
          "output_type": "execute_result",
          "data": {
            "text/plain": [
              "'payel'"
            ],
            "application/vnd.google.colaboratory.intrinsic+json": {
              "type": "string"
            }
          },
          "metadata": {},
          "execution_count": 44
        }
      ]
    },
    {
      "cell_type": "code",
      "source": [
        "num[2]"
      ],
      "metadata": {
        "colab": {
          "base_uri": "https://localhost:8080/"
        },
        "id": "-tt09RJjzQG0",
        "outputId": "7dfbd987-9a87-412e-f100-afb3c611667a"
      },
      "execution_count": 45,
      "outputs": [
        {
          "output_type": "execute_result",
          "data": {
            "text/plain": [
              "True"
            ]
          },
          "metadata": {},
          "execution_count": 45
        }
      ]
    },
    {
      "cell_type": "code",
      "source": [
        "num[-1]"
      ],
      "metadata": {
        "colab": {
          "base_uri": "https://localhost:8080/"
        },
        "id": "IUFkQbE41ZG1",
        "outputId": "523ca05a-9658-49f2-a807-d23069d00017"
      },
      "execution_count": 46,
      "outputs": [
        {
          "output_type": "execute_result",
          "data": {
            "text/plain": [
              "2.0"
            ]
          },
          "metadata": {},
          "execution_count": 46
        }
      ]
    },
    {
      "cell_type": "code",
      "source": [
        "#Write a for loop to print numbers from 1 to 10\n",
        "i = (1,10)\n",
        "for i in range(1, 11):\n",
        "  print(i)"
      ],
      "metadata": {
        "colab": {
          "base_uri": "https://localhost:8080/"
        },
        "id": "VntpLatz1c9u",
        "outputId": "4ad2063c-7f97-48bb-f9bc-98dfdc6c4818"
      },
      "execution_count": 47,
      "outputs": [
        {
          "output_type": "stream",
          "name": "stdout",
          "text": [
            "1\n",
            "2\n",
            "3\n",
            "4\n",
            "5\n",
            "6\n",
            "7\n",
            "8\n",
            "9\n",
            "10\n"
          ]
        }
      ]
    },
    {
      "cell_type": "code",
      "source": [
        "#Write a Python program to find the sum of all even numbers between 1 and 500\n",
        "for i in range(1,50):\n",
        "  if i%2==0:\n",
        "    print(i)"
      ],
      "metadata": {
        "colab": {
          "base_uri": "https://localhost:8080/"
        },
        "id": "6rWdi-vJ3XX6",
        "outputId": "70be466d-e6d4-46d0-afea-4aa1904316f1"
      },
      "execution_count": 52,
      "outputs": [
        {
          "output_type": "stream",
          "name": "stdout",
          "text": [
            "2\n",
            "4\n",
            "6\n",
            "8\n",
            "10\n",
            "12\n",
            "14\n",
            "16\n",
            "18\n",
            "20\n",
            "22\n",
            "24\n",
            "26\n",
            "28\n",
            "30\n",
            "32\n",
            "34\n",
            "36\n",
            "38\n",
            "40\n",
            "42\n",
            "44\n",
            "46\n",
            "48\n"
          ]
        }
      ]
    },
    {
      "cell_type": "code",
      "source": [
        "a = (\"Payel\")\n",
        "while len(a) > 0:\n",
        "  print(a[-1])\n",
        "  a = a[:-1]"
      ],
      "metadata": {
        "colab": {
          "base_uri": "https://localhost:8080/"
        },
        "id": "W0T_29kt6NjN",
        "outputId": "32558b2c-0ce3-431a-c270-51d49e092470"
      },
      "execution_count": 57,
      "outputs": [
        {
          "output_type": "stream",
          "name": "stdout",
          "text": [
            "l\n",
            "e\n",
            "y\n",
            "a\n",
            "P\n"
          ]
        }
      ]
    },
    {
      "cell_type": "code",
      "source": [
        "#Write a Python program to calculate the factorial of a number provided by the user using a while loop\n",
        "num = int(input(\"35:\"))\n",
        "fact = 1\n",
        "while(num>0):\n",
        "  fact = fact*num\n",
        "  num = num-1\n",
        "print(\"factorial number is:\",fact)"
      ],
      "metadata": {
        "colab": {
          "base_uri": "https://localhost:8080/"
        },
        "id": "acCdzAaM6O6t",
        "outputId": "3f81bf7b-002c-4f9f-a6c6-94d9507f7326"
      },
      "execution_count": 58,
      "outputs": [
        {
          "output_type": "stream",
          "name": "stdout",
          "text": [
            "35:6\n",
            "factorial number is: 720\n"
          ]
        }
      ]
    },
    {
      "cell_type": "code",
      "source": [],
      "metadata": {
        "id": "_rzS17-i9JSD"
      },
      "execution_count": null,
      "outputs": []
    },
    {
      "cell_type": "markdown",
      "source": [],
      "metadata": {
        "id": "qG8OS4RI9qbB"
      }
    }
  ]
}